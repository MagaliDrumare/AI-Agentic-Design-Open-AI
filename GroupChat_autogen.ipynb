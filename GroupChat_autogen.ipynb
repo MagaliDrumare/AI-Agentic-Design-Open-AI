{
  "nbformat": 4,
  "nbformat_minor": 0,
  "metadata": {
    "colab": {
      "private_outputs": true,
      "provenance": [],
      "authorship_tag": "ABX9TyMS38z21m5FO7yK0F26Xdg8",
      "include_colab_link": true
    },
    "kernelspec": {
      "name": "python3",
      "display_name": "Python 3"
    },
    "language_info": {
      "name": "python"
    }
  },
  "cells": [
    {
      "cell_type": "markdown",
      "metadata": {
        "id": "view-in-github",
        "colab_type": "text"
      },
      "source": [
        "<a href=\"https://colab.research.google.com/github/MagaliDrumare/AI-Agentic-Design-Patterns-with-AutoGen/blob/main/GroupChat_autogen.ipynb\" target=\"_parent\"><img src=\"https://colab.research.google.com/assets/colab-badge.svg\" alt=\"Open In Colab\"/></a>"
      ]
    },
    {
      "cell_type": "code",
      "source": [
        "pip install pyautogen"
      ],
      "metadata": {
        "id": "mqZUgMcnSNxA"
      },
      "execution_count": null,
      "outputs": []
    },
    {
      "cell_type": "code",
      "execution_count": null,
      "metadata": {
        "id": "gDUZ1tyxSJeo"
      },
      "outputs": [],
      "source": [
        "import autogen\n",
        "from autogen.coding import LocalCommandLineCodeExecutor\n",
        "\n",
        "config_list = [\n",
        "    {\n",
        "        \"model\": \"gpt-4\",\n",
        "        \"api_key\": \"XXXXXXXXXXX\"\n",
        "    }\n",
        "]\n",
        "\n",
        "executor = LocalCommandLineCodeExecutor(\n",
        "    timeout=10,  # Timeout for each code execution in seconds.\n",
        "    work_dir=\"code\"  # the directory\n",
        ")\n",
        "\n",
        "user_proxy = autogen.UserProxyAgent(\n",
        "    \"user\",\n",
        "    code_execution_config={\"executor\": executor},\n",
        "    human_input_mode=\"TERMINATE\",\n",
        "    is_termination_msg=lambda x: x.get(\"content\", \"\") and x.get(\"content\", \"\").rstrip().endswith(\"TERMINATE\"),\n",
        ")\n",
        "\n",
        "planner = autogen.AssistantAgent(\n",
        "    \"planner\",\n",
        "    llm_config={\n",
        "        \"config_list\": config_list\n",
        "    },\n",
        "    system_message=\"You are a planner.  When you get the message, your job is to come up with a plan.  \"\n",
        "                   \"When you are done, reply with TERMINATE\"\n",
        ")\n",
        "\n",
        "engineer = autogen.AssistantAgent(\n",
        "    \"engineer\",\n",
        "    llm_config={\n",
        "        \"config_list\": config_list\n",
        "    },\n",
        "    system_message=\"You are a 10x Python Engineer.  You only code in Python.  You create excellent front-end \"\n",
        "                   \"developer.  When you are done, reply with \"\n",
        "                   \"TERMINATE.  Make sure to have # <name of the file>.py after the ``` on each piece of code.\",\n",
        ")\n",
        "\n",
        "critic = autogen.AssistantAgent(\n",
        "    \"critic\",\n",
        "    llm_config={\n",
        "        \"config_list\": config_list\n",
        "    },\n",
        "    system_message=\"Your job is to critique the plan and code, and modify anything if necessary.  If it looks good \"\n",
        "                   \"then just let it be.  When you are done, reply with TERMINATE\",\n",
        ")\n",
        "\n",
        "group_chat = autogen.GroupChat(agents=[user_proxy, planner, engineer, critic], messages=[], max_round=15)\n",
        "manager = autogen.GroupChatManager(groupchat=group_chat, llm_config={\"config_list\": config_list})\n",
        "\n",
        "user_proxy.initiate_chat(\n",
        "    manager,\n",
        "    message=\"\"\"\n",
        "        I want you to come up with a plan on how we would create a full front end with:\n",
        "\n",
        "        1. multiple html pages\n",
        "        2. routing to each page and from each page\n",
        "        3. style with bootstrap\n",
        "        4. have a button on each page that performs a function that will give a random number when clicked\n",
        "    \"\"\")"
      ]
    }
  ]
}