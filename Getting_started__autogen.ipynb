{
  "nbformat": 4,
  "nbformat_minor": 0,
  "metadata": {
    "colab": {
      "private_outputs": true,
      "provenance": [],
      "authorship_tag": "ABX9TyNfAydi75TlikvIss6dLbrc",
      "include_colab_link": true
    },
    "kernelspec": {
      "name": "python3",
      "display_name": "Python 3"
    },
    "language_info": {
      "name": "python"
    }
  },
  "cells": [
    {
      "cell_type": "markdown",
      "metadata": {
        "id": "view-in-github",
        "colab_type": "text"
      },
      "source": [
        "<a href=\"https://colab.research.google.com/github/MagaliDrumare/AI-Agentic-Design-Patterns-with-AutoGen/blob/main/Getting_started__autogen.ipynb\" target=\"_parent\"><img src=\"https://colab.research.google.com/assets/colab-badge.svg\" alt=\"Open In Colab\"/></a>"
      ]
    },
    {
      "cell_type": "code",
      "source": [
        "pip install pyautogen"
      ],
      "metadata": {
        "id": "g98VXSDiKU3U"
      },
      "execution_count": null,
      "outputs": []
    },
    {
      "cell_type": "code",
      "source": [
        "from autogen import UserProxyAgent\n",
        "\n",
        "user_proxy = UserProxyAgent(\n",
        "    name=\"user_proxy\",\n",
        "    code_execution_config={\"work_dir\":\"_output\", \"use_docker\":\"python:3\"},\n",
        ")"
      ],
      "metadata": {
        "id": "N3xmf8E8KIRF"
      },
      "execution_count": null,
      "outputs": []
    },
    {
      "cell_type": "code",
      "execution_count": null,
      "metadata": {
        "id": "nZtDGGzdJ4GO"
      },
      "outputs": [],
      "source": [
        "import autogen\n",
        "# Coller la clé API XXXXXXXX https://platform.openai.com/settings/profile?tab=api-keys\n",
        "config_list = [\n",
        "    {\n",
        "        \"model\": \"gpt-3.5-turbo\",  # or gpt-3.5-turbo\n",
        "        \"api_key\": \"XXXXXXXXXXXXXXXXXXXXXXX\"\n",
        "    }\n",
        "]\n",
        "\n",
        "user_proxy = autogen.UserProxyAgent(\n",
        "    \"user\",\n",
        "    code_execution_config={\n",
        "        \"work_dir\": \"coding\",\n",
        "        \"use_docker\": False\n",
        "    },\n",
        "    human_input_mode=\"TERMINATE\",\n",
        "    is_termination_msg=lambda msg: \"TERMINATE\" in msg[\"content\"],\n",
        ")\n",
        "\n",
        "engineer = autogen.AssistantAgent(\n",
        "    \"engineer\",\n",
        "    llm_config={\n",
        "        \"config_list\": config_list\n",
        "    },\n",
        "    system_message=\"You are a 10x Python Engineer.  You only code in Python.  You create excellent front-end \"\n",
        "                   \"developer. Make sure to have # filename: <name of the file>.py as the first line after the triple tick marks. \"\n",
        "                   \"When you are done, reply with TERMINATE.\",\n",
        ")\n",
        "\n",
        "user_proxy.initiate_chat(\n",
        "    engineer,\n",
        "    message=\"\"\"I want you to create two different python methods for me in 1 file.  1 will just generate a random\n",
        "    number, and the other will take in a number and then reverse it. \"\"\")"
      ]
    }
  ]
}